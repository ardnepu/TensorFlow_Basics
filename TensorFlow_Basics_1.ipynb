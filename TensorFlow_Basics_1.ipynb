{
 "cells": [
  {
   "cell_type": "code",
   "execution_count": 1,
   "metadata": {
    "scrolled": true
   },
   "outputs": [
    {
     "name": "stderr",
     "output_type": "stream",
     "text": [
      "/home/beingaerys/anaconda3/lib/python3.6/site-packages/h5py/__init__.py:36: FutureWarning: Conversion of the second argument of issubdtype from `float` to `np.floating` is deprecated. In future, it will be treated as `np.float64 == np.dtype(float).type`.\n",
      "  from ._conv import register_converters as _register_converters\n"
     ]
    }
   ],
   "source": [
    "import tensorflow as tf\n"
   ]
  },
  {
   "cell_type": "markdown",
   "metadata": {},
   "source": [
    "In TensorFlow, what we do is first create a graph of nodes and then pass the data from one node to another in the form of tensors (multidimensional arrays). Thus, flow of tensors.A tensorflow program has 2 parts: building a computational graph and then running this computational graph. A computational graph is a series of tensorflow operations (an operation can simply be a value or some mathematical calculation) representaed as nodes.\n",
    "\n",
    "\n",
    "<img src=\"Computational-Graph-TensorFlow.png\">\n",
    "\n",
    "\n",
    "Image Source : Edureka\n"
   ]
  },
  {
   "cell_type": "code",
   "execution_count": 16,
   "metadata": {},
   "outputs": [
    {
     "name": "stdout",
     "output_type": "stream",
     "text": [
      "50\n"
     ]
    }
   ],
   "source": [
    "#lets build a graph with three nodes\n",
    "node1 = tf.constant(5)\n",
    "node2 = tf.constant(10)\n",
    "multiplication_node = node1 * node2\n",
    "\n",
    "#run the graph in a session by passing the tensor\n",
    "sess = tf.Session()\n",
    "with tf.Session() as sess:\n",
    "    output = sess.run(multiplication_node)\n",
    "    print (output)\n"
   ]
  },
  {
   "cell_type": "markdown",
   "metadata": {},
   "source": [
    "Nonetheless, we can visualize our TensorFlow graphs using TensorBoard"
   ]
  },
  {
   "cell_type": "code",
   "execution_count": 28,
   "metadata": {
    "scrolled": true
   },
   "outputs": [
    {
     "name": "stdout",
     "output_type": "stream",
     "text": [
      "50\n"
     ]
    }
   ],
   "source": [
    "File_Writer = tf.summary.FileWriter('graph',sess.graph) \n",
    "\n",
    "\n"
   ]
  },
  {
   "cell_type": "markdown",
   "metadata": {},
   "source": [
    "Use tensorboard --logdir=\"graph\" where graph is the folder that contains the generated graph and you are in the working directory.\n",
    "\n",
    "Now,lets look at the types of nodes in TensorFlow.\n",
    "Above, we used node1 and node2 to store constant values. These nodes are called constant nodes that always produce  constant results i.e., when we execute a constant node, it always returns the value kept inside that node (here 5 and 10).\n",
    "\n",
    "However, what if we want to feed some input to our computation graph rather than directly putting some value at that node such that we can assign different input values to those nodes as our requirement. For this, we can use a type of node called a placeholder.\n",
    "\n"
   ]
  },
  {
   "cell_type": "code",
   "execution_count": 34,
   "metadata": {},
   "outputs": [
    {
     "name": "stdout",
     "output_type": "stream",
     "text": [
      "[5. 7.]\n"
     ]
    }
   ],
   "source": [
    "node4 = tf.placeholder(tf.float32)\n",
    "node5 = tf.placeholder(tf.float32)\n",
    "addition_node = node4 + node5\n",
    "sess = tf.Session()\n",
    "print(sess.run(addition_node, {node4:[1,2],node5:[4,5]}))\n",
    "File_Writer = tf.summary.FileWriter('graph',sess.graph) \n"
   ]
  },
  {
   "cell_type": "markdown",
   "metadata": {},
   "source": [
    "Understand this: Once we place a value in a placeholder, we cannot update its value. However, in Machine Learning, we might have\n",
    "an equation like y = wx + b where w is the weight and b is the bias. So, while we have a single input matrix for the field x in the equation above, we need to run multiple iterations of w and b so as to get the optimal value of w and b for our problem. Thus, while a placeholder is enough to input the matrix once in the x field, we need a type of field in tensorflow where we can change the values at run time to eventually find out the optimal value. For this, we have a type of node called a variable in TensorFlow. a variable field's value can be changed as many times as we want at runtime. NOTE: VARIABLES NEED TO BE INITIALIZED AT THE INSTANT OF CREATION IN TENSORFLOW. However, we need to call a special line of code in TensorFlow explicity for this as shown below."
   ]
  },
  {
   "cell_type": "code",
   "execution_count": 7,
   "metadata": {},
   "outputs": [
    {
     "name": "stdout",
     "output_type": "stream",
     "text": [
      "[ 8. 13. 18. 23.]\n"
     ]
    }
   ],
   "source": [
    "import tensorflow as tf\n",
    "\n",
    "w = tf.Variable([5.0],tf.float32)\n",
    "b = tf.Variable([3.0],tf.float32)\n",
    "\n",
    "init = tf.global_variables_initializer() #special line of code\n",
    "\n",
    "x = tf.placeholder(tf.float32)\n",
    "linear_model = w*x + b\n",
    "\n",
    "sess = tf.Session()\n",
    "sess.run(init)\n",
    "print(sess.run(linear_model,{x : [1,2,3,4]}))\n",
    "File_Writer = tf.summary.FileWriter('graph',sess.graph) "
   ]
  },
  {
   "cell_type": "markdown",
   "metadata": {},
   "source": [
    "Above, we passed 4 values as x and got 4 outputs from the linear equation. However, in Machine Learning, what we do is we pass a matrix as an input X and allow the machine to provide us with the best fit for b and w."
   ]
  }
 ],
 "metadata": {
  "kernelspec": {
   "display_name": "Python 3",
   "language": "python",
   "name": "python3"
  },
  "language_info": {
   "codemirror_mode": {
    "name": "ipython",
    "version": 3
   },
   "file_extension": ".py",
   "mimetype": "text/x-python",
   "name": "python",
   "nbconvert_exporter": "python",
   "pygments_lexer": "ipython3",
   "version": "3.6.5"
  }
 },
 "nbformat": 4,
 "nbformat_minor": 2
}
